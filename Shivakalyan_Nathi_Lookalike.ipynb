{
  "cells": [
    {
      "cell_type": "code",
      "execution_count": 25,
      "metadata": {
        "colab": {
          "base_uri": "https://localhost:8080/"
        },
        "id": "dQ28x049jq42",
        "outputId": "b6e9c816-f07c-42dc-c00a-396e51d3d8f8"
      },
      "outputs": [
        {
          "name": "stdout",
          "output_type": "stream",
          "text": [
            "Lookalike.csv has been created.\n"
          ]
        }
      ],
      "source": [
        "#Task 2\n",
        "import pandas as pd\n",
        "from sklearn.metrics.pairwise import cosine_similarity\n",
        "from sklearn.preprocessing import StandardScaler\n",
        "\n",
        "\n",
        "customers = pd.read_csv('/content/drive/MyDrive/Space/Customers.csv')\n",
        "transactions = pd.read_csv('/content/drive/MyDrive/Space/Transactions.csv')\n",
        "products = pd.read_csv('/content/drive/MyDrive/Space/Products.csv')\n",
        "\n",
        "\n",
        "customer_transactions = transactions.groupby('CustomerID').agg({\n",
        "    'TotalValue': ['sum', 'mean'],\n",
        "    'Quantity': 'sum'\n",
        "}).reset_index()\n",
        "customer_transactions.columns = ['CustomerID', 'TotalSpending', 'AvgTransactionValue', 'TotalQuantity']\n",
        "\n",
        "\n",
        "customer_profiles = pd.merge(customers, customer_transactions, on='CustomerID')\n",
        "\n",
        "\n",
        "merged_data = pd.merge(transactions, products, on='ProductID')\n",
        "favorite_category = merged_data.groupby(['CustomerID', 'Category']).size().reset_index(name='Count')\n",
        "favorite_category = favorite_category.loc[favorite_category.groupby('CustomerID')['Count'].idxmax()]\n",
        "favorite_category = favorite_category[['CustomerID', 'Category']]\n",
        "customer_profiles = pd.merge(customer_profiles, favorite_category, on='CustomerID', how='left')\n",
        "\n",
        "\n",
        "customer_profiles['Region'] = customer_profiles['Region'].astype('category').cat.codes\n",
        "customer_profiles['Category'] = customer_profiles['Category'].astype('category').cat.codes\n",
        "\n",
        "\n",
        "features = customer_profiles[['Region', 'TotalSpending', 'AvgTransactionValue', 'TotalQuantity', 'Category']]\n",
        "scaler = StandardScaler()\n",
        "features_scaled = scaler.fit_transform(features)\n",
        "\n",
        "#Calculating cosine similarity\n",
        "similarity_matrix = cosine_similarity(features_scaled)\n",
        "\n",
        "#Geting top 3 lookalikes for the first 20 customers\n",
        "lookalike_results = {}\n",
        "for i in range(20):\n",
        "    customer_id = customer_profiles.iloc[i]['CustomerID']\n",
        "    similarities = similarity_matrix[i]\n",
        "    top_3_indices = similarities.argsort()[-4:-1][::-1]  # Exclude self\n",
        "    top_3 = [(customer_profiles.iloc[idx]['CustomerID'], similarities[idx]) for idx in top_3_indices]\n",
        "    lookalike_results[customer_id] = top_3\n",
        "\n",
        "# Save to CSV\n",
        "import csv\n",
        "with open('Lookalike.csv', 'w', newline='') as file:\n",
        "    writer = csv.writer(file)\n",
        "    writer.writerow(['CustomerID', 'LookalikeID', 'SimilarityScore'])\n",
        "    for cust_id, lookalikes in lookalike_results.items():\n",
        "        for lookalike_id, score in lookalikes:\n",
        "            writer.writerow([cust_id, lookalike_id, score])\n",
        "\n",
        "print(\"Lookalike.csv has been created.\")"
      ]
    },
    {
      "cell_type": "code",
      "execution_count": 24,
      "metadata": {
        "colab": {
          "base_uri": "https://localhost:8080/",
          "height": 17
        },
        "id": "Vj7TrNcNj0_t",
        "outputId": "e57d4001-e142-4454-d852-957fa263a4a4"
      },
      "outputs": [
        {
          "data": {
            "application/javascript": "\n    async function download(id, filename, size) {\n      if (!google.colab.kernel.accessAllowed) {\n        return;\n      }\n      const div = document.createElement('div');\n      const label = document.createElement('label');\n      label.textContent = `Downloading \"${filename}\": `;\n      div.appendChild(label);\n      const progress = document.createElement('progress');\n      progress.max = size;\n      div.appendChild(progress);\n      document.body.appendChild(div);\n\n      const buffers = [];\n      let downloaded = 0;\n\n      const channel = await google.colab.kernel.comms.open(id);\n      // Send a message to notify the kernel that we're ready.\n      channel.send({})\n\n      for await (const message of channel.messages) {\n        // Send a message to notify the kernel that we're ready.\n        channel.send({})\n        if (message.buffers) {\n          for (const buffer of message.buffers) {\n            buffers.push(buffer);\n            downloaded += buffer.byteLength;\n            progress.value = downloaded;\n          }\n        }\n      }\n      const blob = new Blob(buffers, {type: 'application/binary'});\n      const a = document.createElement('a');\n      a.href = window.URL.createObjectURL(blob);\n      a.download = filename;\n      div.appendChild(a);\n      a.click();\n      div.remove();\n    }\n  ",
            "text/plain": [
              "<IPython.core.display.Javascript object>"
            ]
          },
          "metadata": {},
          "output_type": "display_data"
        },
        {
          "data": {
            "application/javascript": "download(\"download_560d4513-a204-412c-964a-00b77cf78e0e\", \"Lookalike.csv\", 1952)",
            "text/plain": [
              "<IPython.core.display.Javascript object>"
            ]
          },
          "metadata": {},
          "output_type": "display_data"
        }
      ],
      "source": [
        "from google.colab import files\n",
        "files.download('Lookalike.csv')"
      ]
    }
  ],
  "metadata": {
    "colab": {
      "provenance": []
    },
    "kernelspec": {
      "display_name": "Python 3",
      "name": "python3"
    },
    "language_info": {
      "name": "python"
    }
  },
  "nbformat": 4,
  "nbformat_minor": 0
}
